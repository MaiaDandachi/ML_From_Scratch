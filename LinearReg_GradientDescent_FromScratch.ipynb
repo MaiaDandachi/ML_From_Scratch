{
 "cells": [
  {
   "cell_type": "markdown",
   "metadata": {},
   "source": [
    "## Implementing Gradient Descent & MSE with Univariate Linear Regression from scratch"
   ]
  },
  {
   "cell_type": "code",
   "execution_count": 233,
   "metadata": {},
   "outputs": [],
   "source": [
    "import numpy as np\n",
    "import pandas as pd\n",
    "import matplotlib.pyplot as plt\n",
    "import seaborn as sns"
   ]
  },
  {
   "cell_type": "code",
   "execution_count": 234,
   "metadata": {
    "scrolled": true
   },
   "outputs": [
    {
     "data": {
      "text/html": [
       "<div>\n",
       "<style scoped>\n",
       "    .dataframe tbody tr th:only-of-type {\n",
       "        vertical-align: middle;\n",
       "    }\n",
       "\n",
       "    .dataframe tbody tr th {\n",
       "        vertical-align: top;\n",
       "    }\n",
       "\n",
       "    .dataframe thead th {\n",
       "        text-align: right;\n",
       "    }\n",
       "</style>\n",
       "<table border=\"1\" class=\"dataframe\">\n",
       "  <thead>\n",
       "    <tr style=\"text-align: right;\">\n",
       "      <th></th>\n",
       "      <th>distance_to_city_center</th>\n",
       "      <th>rooms</th>\n",
       "      <th>size</th>\n",
       "      <th>price</th>\n",
       "    </tr>\n",
       "  </thead>\n",
       "  <tbody>\n",
       "    <tr>\n",
       "      <th>0</th>\n",
       "      <td>2.4</td>\n",
       "      <td>1.0</td>\n",
       "      <td>19.35</td>\n",
       "      <td>191.565</td>\n",
       "    </tr>\n",
       "    <tr>\n",
       "      <th>1</th>\n",
       "      <td>2.4</td>\n",
       "      <td>2.0</td>\n",
       "      <td>13.08</td>\n",
       "      <td>221.568</td>\n",
       "    </tr>\n",
       "    <tr>\n",
       "      <th>2</th>\n",
       "      <td>5.0</td>\n",
       "      <td>1.0</td>\n",
       "      <td>24.66</td>\n",
       "      <td>185.936</td>\n",
       "    </tr>\n",
       "    <tr>\n",
       "      <th>3</th>\n",
       "      <td>1.9</td>\n",
       "      <td>1.0</td>\n",
       "      <td>24.82</td>\n",
       "      <td>275.502</td>\n",
       "    </tr>\n",
       "    <tr>\n",
       "      <th>4</th>\n",
       "      <td>1.9</td>\n",
       "      <td>1.0</td>\n",
       "      <td>25.39</td>\n",
       "      <td>241.205</td>\n",
       "    </tr>\n",
       "  </tbody>\n",
       "</table>\n",
       "</div>"
      ],
      "text/plain": [
       "   distance_to_city_center  rooms   size    price\n",
       "0                      2.4    1.0  19.35  191.565\n",
       "1                      2.4    2.0  13.08  221.568\n",
       "2                      5.0    1.0  24.66  185.936\n",
       "3                      1.9    1.0  24.82  275.502\n",
       "4                      1.9    1.0  25.39  241.205"
      ]
     },
     "execution_count": 234,
     "metadata": {},
     "output_type": "execute_result"
    }
   ],
   "source": [
    "df = pd.read_csv('cracow_apartments.csv')\n",
    "df.head()"
   ]
  },
  {
   "cell_type": "code",
   "execution_count": 209,
   "metadata": {},
   "outputs": [
    {
     "name": "stdout",
     "output_type": "stream",
     "text": [
      "<class 'pandas.core.frame.DataFrame'>\n",
      "RangeIndex: 76 entries, 0 to 75\n",
      "Data columns (total 4 columns):\n",
      "distance_to_city_center    76 non-null float64\n",
      "rooms                      76 non-null float64\n",
      "size                       76 non-null float64\n",
      "price                      76 non-null float64\n",
      "dtypes: float64(4)\n",
      "memory usage: 2.5 KB\n"
     ]
    }
   ],
   "source": [
    "# 3 features, 1 target value(price) that needs to be predicted by the model.\n",
    "df.info()"
   ]
  },
  {
   "cell_type": "code",
   "execution_count": 210,
   "metadata": {
    "scrolled": true
   },
   "outputs": [
    {
     "data": {
      "text/html": [
       "<div>\n",
       "<style scoped>\n",
       "    .dataframe tbody tr th:only-of-type {\n",
       "        vertical-align: middle;\n",
       "    }\n",
       "\n",
       "    .dataframe tbody tr th {\n",
       "        vertical-align: top;\n",
       "    }\n",
       "\n",
       "    .dataframe thead th {\n",
       "        text-align: right;\n",
       "    }\n",
       "</style>\n",
       "<table border=\"1\" class=\"dataframe\">\n",
       "  <thead>\n",
       "    <tr style=\"text-align: right;\">\n",
       "      <th></th>\n",
       "      <th>distance_to_city_center</th>\n",
       "      <th>rooms</th>\n",
       "      <th>size</th>\n",
       "      <th>price</th>\n",
       "    </tr>\n",
       "  </thead>\n",
       "  <tbody>\n",
       "    <tr>\n",
       "      <th>count</th>\n",
       "      <td>76.000000</td>\n",
       "      <td>76.000000</td>\n",
       "      <td>76.000000</td>\n",
       "      <td>76.000000</td>\n",
       "    </tr>\n",
       "    <tr>\n",
       "      <th>mean</th>\n",
       "      <td>5.106579</td>\n",
       "      <td>2.644737</td>\n",
       "      <td>48.138684</td>\n",
       "      <td>356.867974</td>\n",
       "    </tr>\n",
       "    <tr>\n",
       "      <th>std</th>\n",
       "      <td>2.295639</td>\n",
       "      <td>1.261787</td>\n",
       "      <td>22.009502</td>\n",
       "      <td>157.198524</td>\n",
       "    </tr>\n",
       "    <tr>\n",
       "      <th>min</th>\n",
       "      <td>1.400000</td>\n",
       "      <td>1.000000</td>\n",
       "      <td>13.080000</td>\n",
       "      <td>151.757000</td>\n",
       "    </tr>\n",
       "    <tr>\n",
       "      <th>25%</th>\n",
       "      <td>3.000000</td>\n",
       "      <td>2.000000</td>\n",
       "      <td>30.600000</td>\n",
       "      <td>235.533750</td>\n",
       "    </tr>\n",
       "    <tr>\n",
       "      <th>50%</th>\n",
       "      <td>5.050000</td>\n",
       "      <td>2.500000</td>\n",
       "      <td>41.280000</td>\n",
       "      <td>298.442500</td>\n",
       "    </tr>\n",
       "    <tr>\n",
       "      <th>75%</th>\n",
       "      <td>6.800000</td>\n",
       "      <td>3.250000</td>\n",
       "      <td>58.162500</td>\n",
       "      <td>433.078500</td>\n",
       "    </tr>\n",
       "    <tr>\n",
       "      <th>max</th>\n",
       "      <td>11.300000</td>\n",
       "      <td>5.000000</td>\n",
       "      <td>106.960000</td>\n",
       "      <td>808.144000</td>\n",
       "    </tr>\n",
       "  </tbody>\n",
       "</table>\n",
       "</div>"
      ],
      "text/plain": [
       "       distance_to_city_center      rooms        size       price\n",
       "count                76.000000  76.000000   76.000000   76.000000\n",
       "mean                  5.106579   2.644737   48.138684  356.867974\n",
       "std                   2.295639   1.261787   22.009502  157.198524\n",
       "min                   1.400000   1.000000   13.080000  151.757000\n",
       "25%                   3.000000   2.000000   30.600000  235.533750\n",
       "50%                   5.050000   2.500000   41.280000  298.442500\n",
       "75%                   6.800000   3.250000   58.162500  433.078500\n",
       "max                  11.300000   5.000000  106.960000  808.144000"
      ]
     },
     "execution_count": 210,
     "metadata": {},
     "output_type": "execute_result"
    }
   ],
   "source": [
    "# The avg. price of a house is 356.8k\n",
    "# The avg. no. rooms is around 3 rooms.\n",
    "df.describe()"
   ]
  },
  {
   "cell_type": "markdown",
   "metadata": {},
   "source": [
    "**We want to predict the price of appartments in cracow**"
   ]
  },
  {
   "cell_type": "code",
   "execution_count": 212,
   "metadata": {
    "scrolled": true
   },
   "outputs": [
    {
     "data": {
      "text/plain": [
       "{'w': array([0., 0., 0.]), 'b': 0.0}"
      ]
     },
     "execution_count": 212,
     "metadata": {},
     "output_type": "execute_result"
    }
   ],
   "source": [
    "def init(n): # n is the number of features in our dataset.\n",
    "    \"\"\"returns a dictionary containing model weights and bias.\"\"\"\n",
    "    return {\"w\": np.zeros(n), \"b\":0.0}\n",
    "\n",
    "# since our dataset has 3 features for the house.\n",
    "init(3)"
   ]
  },
  {
   "cell_type": "code",
   "execution_count": 213,
   "metadata": {},
   "outputs": [],
   "source": [
    "# Ŷ = w1*x1 + w2*x2 + w3*x3 + b  where x1, x2, x3  are the features of the\n",
    "# house and Ŷ is the value our model predicts.\n",
    "\n",
    "# x is a vector of features representing a single data sample.\n",
    "# parameters is a dictionary which stores parameters of the model\n",
    "# along with their current state.\n",
    "def predict(x, parameters):\n",
    "    \"\"\"returns a prediction for a single data sample.\"\"\"\n",
    "    \n",
    "    # prediction initial value.\n",
    "    prediction = 0\n",
    "    for weight, feature in zip(parameters[\"w\"], x):\n",
    "       # Ŷ = w1*x1 + w2*x2 + w3*x3\n",
    "        prediction += weight * feature\n",
    "    \n",
    "    # Adding bias\n",
    "    prediction += parameters[\"b\"]\n",
    "    \n",
    "    return prediction"
   ]
  },
  {
   "cell_type": "code",
   "execution_count": 214,
   "metadata": {
    "scrolled": true
   },
   "outputs": [],
   "source": [
    "# using only one feature for now\n",
    "features =[\"size\"]\n",
    "target = [\"price\"]\n",
    "\n",
    "# X has the feature in a numpy array, y has the target in a numpy array.\n",
    "# both of size the no. of the data samples.\n",
    "X, y = df[\"size\"].values, df[\"price\"].values    \n",
    "\n",
    "# Initialize model parameters\n",
    "n = len(features) # 1 in this case.\n",
    "\n",
    "# {'w': array([0.]), 'b': 0.0}\n",
    "model_parameters = init(n)\n",
    "\n",
    "# Make prediction for every data sample.\n",
    "# we take the value of the feature(x) as a list to support iterations.\n",
    "y_predictions = [predict([x], model_parameters) for x in X]"
   ]
  },
  {
   "cell_type": "code",
   "execution_count": 215,
   "metadata": {
    "scrolled": true
   },
   "outputs": [
    {
     "data": {
      "text/plain": [
       "[0.0,\n",
       " 0.0,\n",
       " 0.0,\n",
       " 0.0,\n",
       " 0.0,\n",
       " 0.0,\n",
       " 0.0,\n",
       " 0.0,\n",
       " 0.0,\n",
       " 0.0,\n",
       " 0.0,\n",
       " 0.0,\n",
       " 0.0,\n",
       " 0.0,\n",
       " 0.0,\n",
       " 0.0,\n",
       " 0.0,\n",
       " 0.0,\n",
       " 0.0,\n",
       " 0.0,\n",
       " 0.0,\n",
       " 0.0,\n",
       " 0.0,\n",
       " 0.0,\n",
       " 0.0,\n",
       " 0.0,\n",
       " 0.0,\n",
       " 0.0,\n",
       " 0.0,\n",
       " 0.0,\n",
       " 0.0,\n",
       " 0.0,\n",
       " 0.0,\n",
       " 0.0,\n",
       " 0.0,\n",
       " 0.0,\n",
       " 0.0,\n",
       " 0.0,\n",
       " 0.0,\n",
       " 0.0,\n",
       " 0.0,\n",
       " 0.0,\n",
       " 0.0,\n",
       " 0.0,\n",
       " 0.0,\n",
       " 0.0,\n",
       " 0.0,\n",
       " 0.0,\n",
       " 0.0,\n",
       " 0.0,\n",
       " 0.0,\n",
       " 0.0,\n",
       " 0.0,\n",
       " 0.0,\n",
       " 0.0,\n",
       " 0.0,\n",
       " 0.0,\n",
       " 0.0,\n",
       " 0.0,\n",
       " 0.0,\n",
       " 0.0,\n",
       " 0.0,\n",
       " 0.0,\n",
       " 0.0,\n",
       " 0.0,\n",
       " 0.0,\n",
       " 0.0,\n",
       " 0.0,\n",
       " 0.0,\n",
       " 0.0,\n",
       " 0.0,\n",
       " 0.0,\n",
       " 0.0,\n",
       " 0.0,\n",
       " 0.0,\n",
       " 0.0]"
      ]
     },
     "execution_count": 215,
     "metadata": {},
     "output_type": "execute_result"
    }
   ],
   "source": [
    "# at first predictions will be 0 since weights and bias are 0\n",
    "# but we will improve that by using gradient descent algorithm.\n",
    "# to learn and improve our parameters.\n",
    "y_predictions"
   ]
  },
  {
   "cell_type": "code",
   "execution_count": 216,
   "metadata": {},
   "outputs": [
    {
     "data": {
      "text/plain": [
       "array([191.565, 221.568, 185.936, 275.502, 241.205, 193.052, 231.861,\n",
       "       151.757, 172.003, 175.952, 234.08 , 185.967, 185.025, 261.884,\n",
       "       235.8  , 357.511, 287.1  , 297.605, 292.882, 234.432, 232.113,\n",
       "       209.43 , 272.844, 223.08 , 290.739, 224.064, 241.215, 299.28 ,\n",
       "       255.42 , 287.   , 234.735, 349.233, 272.227, 325.777, 360.418,\n",
       "       459.993, 321.98 , 393.   , 375.852, 427.023, 339.129, 350.9  ,\n",
       "       409.836, 334.89 , 389.932, 417.   , 413.25 , 451.245, 504.589,\n",
       "       418.46 , 455.65 , 614.809, 485.261, 495.489, 555.   , 714.183,\n",
       "       521.571, 529.753, 680.6  , 680.   , 464.18 , 483.505, 692.712,\n",
       "       782.1  , 700.   , 808.144, 292.885, 229.09 , 285.048, 287.6  ,\n",
       "       284.625, 325.   , 373.088, 177.702, 264.11 , 242.52 ])"
      ]
     },
     "execution_count": 216,
     "metadata": {},
     "output_type": "execute_result"
    }
   ],
   "source": [
    "# true prices for the appartments\n",
    "y"
   ]
  },
  {
   "cell_type": "code",
   "execution_count": 217,
   "metadata": {},
   "outputs": [
    {
     "data": {
      "text/plain": [
       "[<matplotlib.lines.Line2D at 0x1860b07ddd8>]"
      ]
     },
     "execution_count": 217,
     "metadata": {},
     "output_type": "execute_result"
    },
    {
     "data": {
      "image/png": "[encoded data removed]",
      "text/plain": [
       "<Figure size 432x288 with 1 Axes>"
      ]
     },
     "metadata": {
      "needs_background": "light"
     },
     "output_type": "display_data"
    }
   ],
   "source": [
    "# the red lines referes to our predictions.\n",
    "# notice the distance between the dots in the red line and the blue dots-\n",
    "# is the error in our prediction that we would like to minimize.\n",
    "\n",
    "sns.scatterplot(x=\"size\", y=\"price\", data=df)\n",
    "plt.plot(X, y_predictions, color='red')"
   ]
  },
  {
   "cell_type": "markdown",
   "metadata": {},
   "source": [
    "## Univariate Linear regression "
   ]
  },
  {
   "cell_type": "code",
   "execution_count": 349,
   "metadata": {},
   "outputs": [],
   "source": [
    "# Ŷ = w1*x1 + w2*x2 + w3*x3 + b  where x1, x2, x3  are the features of the\n",
    "# house and Ŷ is the value our model predicts.\n",
    "# This is the hypothesis\n",
    "\n",
    "# x is a feature that we will use to do our uni_variate_linear regression.\n",
    "# parameters is a dictionary which stores parameters of the model\n",
    "# along with their current state.\n",
    "def uni_variate_predict(x, parameters):\n",
    "\n",
    "    # prediction initial value.\n",
    "    prediction = 0\n",
    "    \n",
    "    # Ŷ = w1*x1\n",
    "    prediction += parameters[\"w\"] * x\n",
    "    \n",
    "    # Adding bias\n",
    "    prediction += parameters[\"b\"]\n",
    "    \n",
    "    return prediction # Ŷ = w1*x1 + b\n"
   ]
  },
  {
   "cell_type": "code",
   "execution_count": 350,
   "metadata": {},
   "outputs": [],
   "source": [
    "# Returns avg. squared difference between the predictions and targets.\n",
    "# The error is equivalent to the area of the square created of the- geometrical distance between the tuple measured points.\n",
    "# most popular when using gradient descent for optimization.\n",
    "       \n",
    "def mean_squared_error(predictions, targets):\n",
    "  \n",
    "    # getting number of samples in a dataset.\n",
    "    num_samples = len(predictions)\n",
    "    \n",
    "    # adding the square differences between predicted and expected values.\n",
    "    sum_errors = 0\n",
    "    \n",
    "    # iterate through tuples of neighboring elements in both lists.\n",
    "    for prediction, target in zip(predictions, targets):\n",
    "        sum_errors += (prediction - target) **2 # squared value error.\n",
    "    \n",
    "    mse = (1 / (2 * num_samples)) * sum_errors \n",
    "    return mse"
   ]
  },
  {
   "cell_type": "code",
   "execution_count": 351,
   "metadata": {},
   "outputs": [],
   "source": [
    "# uses gradient descent algorithm to find the local minimum of the cost-\n",
    "# function that decreases the error between the prediction target and\n",
    "# the actual price of a house in our example.\n",
    "\n",
    "\n",
    "def uni_variate_linear_regression_fit(X, y, model_parameters, learning_rate=0.0005, iterations=20000):\n",
    "    \n",
    "    # Make prediction for every data sample house price. which is initially 0.since weights and bias are initially 0.\n",
    "     y_predictions = [uni_variate_predict(x, model_parameters) for x in X]\n",
    "    \n",
    "    # initial distance error between our predicted price for the house and the actual price of a house. \n",
    "    initial_error = mean_squared_error(y_predictions, y)\n",
    "    \n",
    "    print(\"Initial State:\")\n",
    "    print(\" - error: {}\".format(initial_error))\n",
    "    print(\" - parameters: {}\".format(model_parameters))\n",
    "    \n",
    "    #Looping till min error in our predictions\n",
    "    \n",
    "    for i in range(iterations):\n",
    "        \n",
    "        # keep decreasing or increasing the value of the feature weight and the bias.\n",
    "        # in order to reach the local minima of cost function.\n",
    "        \n",
    "        accumulated_gradient_weight = 0\n",
    "        accumulated_gradient_bias = 0\n",
    "        \n",
    "        # in this case x is the size of a single house, y_target is it's price.\n",
    "        # Now get the derivative of the cost function one time with respect to w0 and once with respect to bias \n",
    "            \n",
    "        for x, y_target in zip(X, y):\n",
    "            accumulated_gradient_weight += (uni_variate_predict(x, model_parameters) - y_target) * x\n",
    "            accumulated_gradient_bias += (uni_variate_predict(x, model_parameters) - y_target)\n",
    "        \n",
    "        # Calculates the rate of change of the cost function with respect to the change in the weight of a feature. ( mean of gradient)\n",
    "        weight_gradient = (1.0 / len(X)) * accumulated_gradient_weight\n",
    "    \n",
    "        # Calculates the rate of change of the cost function with respect to the change of the bias. ( mean of gradient)\n",
    "        bias_gradient = (1.0 / len(X)) * accumulated_gradient_bias\n",
    "        \n",
    "        \n",
    "        # After we got the derivatives (directions) now Use the update Rule\n",
    "        # Update parameters by small part of averaged gradient\n",
    "        # updating the values of the weights and bias.\n",
    "        model_parameters[\"w\"] = model_parameters[\"w\"] - learning_rate * weight_gradient\n",
    "        model_parameters[\"b\"] = model_parameters[\"b\"] - learning_rate * bias_gradient\n",
    "        \n",
    "        if i % 4000 == 0: # for each 4k iterations print these.\n",
    "            print(\"\\nIteration {}:\".format(i))\n",
    "            print(\" - error: {}\".format(mean_squared_error([uni_variate_predict(x, model_parameters) for x in X], y)))\n",
    "            print(\" - parameters: {}\".format(model_parameters))\n",
    "\n",
    "    print(\"\\nFinal state:\")\n",
    "    print(\" - error: {}\".format(mean_squared_error([uni_variate_predict(x, model_parameters) for x in X], y)))\n",
    "    print(\" - parameters: {}\".format(model_parameters))\n",
    "    \n",
    "    return model_parameters\n",
    "    \n"
   ]
  },
  {
   "cell_type": "code",
   "execution_count": 352,
   "metadata": {},
   "outputs": [
    {
     "data": {
      "text/plain": [
       "array([ 19.35,  13.08,  24.66,  24.82,  25.39,  25.54,  25.62,  26.04,\n",
       "        26.26,  26.26,  26.6 ,  26.87,  27.85,  27.86,  27.93,  28.32,\n",
       "        29.  ,  29.91,  30.83,  31.68,  32.02,  32.22,  34.32,  34.32,\n",
       "        34.78,  35.01,  37.11,  37.41,  38.7 ,  29.  ,  45.15,  48.17,\n",
       "        48.52,  49.42,  49.44,  50.91,  51.9 ,  52.4 ,  52.7 ,  53.61,\n",
       "        53.83,  53.86,  54.18,  54.9 ,  54.92,  54.97,  55.1 ,  67.35,\n",
       "        67.73,  68.6 ,  70.1 ,  70.16,  70.81,  71.81,  72.02,  74.36,\n",
       "        75.59,  75.92,  83.  ,  85.09,  86.86,  87.91,  96.21,  99.  ,\n",
       "       100.88, 106.96,  30.83,  36.95,  39.59,  40.69,  41.25,  41.31,\n",
       "        41.94,  34.18,  34.3 ,  34.4 ])"
      ]
     },
     "execution_count": 352,
     "metadata": {},
     "output_type": "execute_result"
    }
   ],
   "source": [
    "# Sizes of the appartements\n",
    "X"
   ]
  },
  {
   "cell_type": "code",
   "execution_count": 353,
   "metadata": {},
   "outputs": [
    {
     "data": {
      "text/plain": [
       "array([191.565, 221.568, 185.936, 275.502, 241.205, 193.052, 231.861,\n",
       "       151.757, 172.003, 175.952, 234.08 , 185.967, 185.025, 261.884,\n",
       "       235.8  , 357.511, 287.1  , 297.605, 292.882, 234.432, 232.113,\n",
       "       209.43 , 272.844, 223.08 , 290.739, 224.064, 241.215, 299.28 ,\n",
       "       255.42 , 287.   , 234.735, 349.233, 272.227, 325.777, 360.418,\n",
       "       459.993, 321.98 , 393.   , 375.852, 427.023, 339.129, 350.9  ,\n",
       "       409.836, 334.89 , 389.932, 417.   , 413.25 , 451.245, 504.589,\n",
       "       418.46 , 455.65 , 614.809, 485.261, 495.489, 555.   , 714.183,\n",
       "       521.571, 529.753, 680.6  , 680.   , 464.18 , 483.505, 692.712,\n",
       "       782.1  , 700.   , 808.144, 292.885, 229.09 , 285.048, 287.6  ,\n",
       "       284.625, 325.   , 373.088, 177.702, 264.11 , 242.52 ])"
      ]
     },
     "execution_count": 353,
     "metadata": {},
     "output_type": "execute_result"
    }
   ],
   "source": [
    "# Prices of the appartments\n",
    "y"
   ]
  },
  {
   "cell_type": "code",
   "execution_count": 354,
   "metadata": {},
   "outputs": [],
   "source": [
    "# initializing the weights and bias for the size feature. to be both 0.0.\n",
    "model_parameters = init(1) # in this case one 1 feture "
   ]
  },
  {
   "cell_type": "code",
   "execution_count": 355,
   "metadata": {},
   "outputs": [
    {
     "name": "stdout",
     "output_type": "stream",
     "text": [
      "Initial State:\n",
      " - error: 75870.48844819736\n",
      " - parameters: {'w': array([0.]), 'b': 0.0}\n",
      "\n",
      "Iteration 0:\n",
      " - error: [13536.3070032]\n",
      " - parameters: {'w': array([10.17501967]), 'b': array([0.17843399])}\n",
      "\n",
      "Iteration 4000:\n",
      " - error: [1737.28457739]\n",
      " - parameters: {'w': array([7.09101188]), 'b': array([10.96966037])}\n",
      "\n",
      "Iteration 8000:\n",
      " - error: [1707.33242182]\n",
      " - parameters: {'w': array([6.9583785]), 'b': array([18.67110985])}\n",
      "\n",
      "Iteration 12000:\n",
      " - error: [1692.21685452]\n",
      " - parameters: {'w': array([6.86415678]), 'b': array([24.14215949])}\n",
      "\n",
      "Iteration 16000:\n",
      " - error: [1684.5886765]\n",
      " - parameters: {'w': array([6.79722241]), 'b': array([28.02875048])}\n",
      "\n",
      "Final state:\n",
      " - error: [1680.73973307]\n",
      " - parameters: {'w': array([6.74968272]), 'b': array([30.78917543])}\n"
     ]
    }
   ],
   "source": [
    "#the error is minimizing and the weights are bias are changing.\n",
    "best_params = uni_variate_linear_regression_fit(X, y, model_parameters)"
   ]
  },
  {
   "cell_type": "code",
   "execution_count": 356,
   "metadata": {},
   "outputs": [
    {
     "data": {
      "text/plain": [
       "{'w': array([6.74968272]), 'b': array([30.78917543])}"
      ]
     },
     "execution_count": 356,
     "metadata": {},
     "output_type": "execute_result"
    }
   ],
   "source": [
    "# The function returns the best values for the weight of the size feature and the bias.\n",
    "best_params"
   ]
  },
  {
   "cell_type": "code",
   "execution_count": 357,
   "metadata": {
    "scrolled": true
   },
   "outputs": [],
   "source": [
    "#Returns the predicted values of our target based on our feature we are using\n",
    "\n",
    "def univariate_linear_regression_predict(X,best_params):\n",
    "    \n",
    "    y_predictions = []\n",
    "    \n",
    "    for x in X: # the size for each house in our dataset.\n",
    "    \n",
    "        ypred = best_params[\"w\"] * x + best_params[\"b\"]\n",
    "        y_predictions.append(ypred)\n",
    "        \n",
    "    return y_predictions\n",
    "\n",
    "# Now make predictions using the best parameters\n",
    "# Returns predicted price values for all samples in our dataset.\n",
    "y_predictions = univariate_linear_regression_predict(X, best_params)"
   ]
  },
  {
   "cell_type": "code",
   "execution_count": 358,
   "metadata": {},
   "outputs": [
    {
     "data": {
      "text/plain": [
       "array([191.565, 221.568, 185.936, 275.502, 241.205, 193.052, 231.861,\n",
       "       151.757, 172.003, 175.952, 234.08 , 185.967, 185.025, 261.884,\n",
       "       235.8  , 357.511, 287.1  , 297.605, 292.882, 234.432, 232.113,\n",
       "       209.43 , 272.844, 223.08 , 290.739, 224.064, 241.215, 299.28 ,\n",
       "       255.42 , 287.   , 234.735, 349.233, 272.227, 325.777, 360.418,\n",
       "       459.993, 321.98 , 393.   , 375.852, 427.023, 339.129, 350.9  ,\n",
       "       409.836, 334.89 , 389.932, 417.   , 413.25 , 451.245, 504.589,\n",
       "       418.46 , 455.65 , 614.809, 485.261, 495.489, 555.   , 714.183,\n",
       "       521.571, 529.753, 680.6  , 680.   , 464.18 , 483.505, 692.712,\n",
       "       782.1  , 700.   , 808.144, 292.885, 229.09 , 285.048, 287.6  ,\n",
       "       284.625, 325.   , 373.088, 177.702, 264.11 , 242.52 ])"
      ]
     },
     "execution_count": 358,
     "metadata": {},
     "output_type": "execute_result"
    }
   ],
   "source": [
    "# Real price values in our dataset.\n",
    "y"
   ]
  },
  {
   "cell_type": "code",
   "execution_count": 359,
   "metadata": {
    "scrolled": true
   },
   "outputs": [
    {
     "data": {
      "text/plain": [
       "[array([161.39553613]),\n",
       " array([119.07502545]),\n",
       " array([197.23635139]),\n",
       " array([198.31630062]),\n",
       " array([202.16361978]),\n",
       " array([203.17607219]),\n",
       " array([203.7160468]),\n",
       " array([206.55091355]),\n",
       " array([208.03584375]),\n",
       " array([208.03584375]),\n",
       " array([210.33073587]),\n",
       " array([212.15315021]),\n",
       " array([218.76783928]),\n",
       " array([218.8353361]),\n",
       " array([219.30781389]),\n",
       " array([221.94019016]),\n",
       " array([226.52997441]),\n",
       " array([232.67218569]),\n",
       " array([238.88189379]),\n",
       " array([244.61912411]),\n",
       " array([246.91401623]),\n",
       " array([248.26395278]),\n",
       " array([262.4382865]),\n",
       " array([262.4382865]),\n",
       " array([265.54314055]),\n",
       " array([267.09556758]),\n",
       " array([281.2699013]),\n",
       " array([283.29480611]),\n",
       " array([292.00189683]),\n",
       " array([226.52997441]),\n",
       " array([335.53735039]),\n",
       " array([355.92139222]),\n",
       " array([358.28378117]),\n",
       " array([364.35849562]),\n",
       " array([364.49348928]),\n",
       " array([374.41552288]),\n",
       " array([381.09770878]),\n",
       " array([384.47255014]),\n",
       " array([386.49745496]),\n",
       " array([392.63966623]),\n",
       " array([394.12459643]),\n",
       " array([394.32708692]),\n",
       " array([396.48698539]),\n",
       " array([401.34675695]),\n",
       " array([401.4817506]),\n",
       " array([401.81923474]),\n",
       " array([402.69669349]),\n",
       " array([485.38030686]),\n",
       " array([487.94518629]),\n",
       " array([493.81741026]),\n",
       " array([503.94193435]),\n",
       " array([504.34691531]),\n",
       " array([508.73420908]),\n",
       " array([515.4838918]),\n",
       " array([516.90132517]),\n",
       " array([532.69558275]),\n",
       " array([540.9976925]),\n",
       " array([543.2250878]),\n",
       " array([591.01284148]),\n",
       " array([605.11967837]),\n",
       " array([617.06661679]),\n",
       " array([624.15378365]),\n",
       " array([680.17615026]),\n",
       " array([699.00776505]),\n",
       " array([711.69716858]),\n",
       " array([752.73523953]),\n",
       " array([238.88189379]),\n",
       " array([280.18995206]),\n",
       " array([298.00911445]),\n",
       " array([305.43376545]),\n",
       " array([309.21358777]),\n",
       " array([309.61856874]),\n",
       " array([313.87086885]),\n",
       " array([261.49333092]),\n",
       " array([262.30329284]),\n",
       " array([262.97826112])]"
      ]
     },
     "execution_count": 359,
     "metadata": {},
     "output_type": "execute_result"
    }
   ],
   "source": [
    "y_predictions"
   ]
  },
  {
   "cell_type": "code",
   "execution_count": 362,
   "metadata": {},
   "outputs": [
    {
     "data": {
      "text/plain": [
       "[<matplotlib.lines.Line2D at 0x1860cdd0668>]"
      ]
     },
     "execution_count": 362,
     "metadata": {},
     "output_type": "execute_result"
    },
    {
     "data": {
      "image/png": "[encoded data removed]",
      "text/plain": [
       "<Figure size 432x288 with 1 Axes>"
      ]
     },
     "metadata": {
      "needs_background": "light"
     },
     "output_type": "display_data"
    }
   ],
   "source": [
    "# Plot a predicted line that fits the actual data.\n",
    "sns.scatterplot(x=\"size\", y=\"price\", data=df)\n",
    "plt.plot(X, y_predictions, color='red')"
   ]
  }
 ],
 "metadata": {
  "kernelspec": {
   "display_name": "Python 3",
   "language": "python",
   "name": "python3"
  },
  "language_info": {
   "codemirror_mode": {
    "name": "ipython",
    "version": 3
   },
   "file_extension": ".py",
   "mimetype": "text/x-python",
   "name": "python",
   "nbconvert_exporter": "python",
   "pygments_lexer": "ipython3",
   "version": "3.7.0"
  }
 },
 "nbformat": 4,
 "nbformat_minor": 2
}
